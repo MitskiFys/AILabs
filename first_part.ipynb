{
  "nbformat": 4,
  "nbformat_minor": 0,
  "metadata": {
    "colab": {
      "name": "first part.ipynb",
      "provenance": [],
      "collapsed_sections": [],
      "authorship_tag": "ABX9TyN/3u4eUkJNM31qfk/XeV3F",
      "include_colab_link": true
    },
    "kernelspec": {
      "display_name": "Python 3",
      "name": "python3"
    }
  },
  "cells": [
    {
      "cell_type": "markdown",
      "metadata": {
        "id": "view-in-github",
        "colab_type": "text"
      },
      "source": [
        "<a href=\"https://colab.research.google.com/github/Mitsko/AILabs/blob/master/first_part.ipynb\" target=\"_parent\"><img src=\"https://colab.research.google.com/assets/colab-badge.svg\" alt=\"Open In Colab\"/></a>"
      ]
    },
    {
      "cell_type": "code",
      "metadata": {
        "colab": {
          "base_uri": "https://localhost:8080/"
        },
        "id": "WRvLq0wM4CmF",
        "outputId": "5e2692ef-9f18-433e-8b13-fe65319f39ee"
      },
      "source": [
        "from google.colab import drive\n",
        "import pandas as pd\n",
        "import seaborn as sns\n",
        "import matplotlib.pyplot as plt\n",
        "import matplotlib.patches as mpatches\n",
        "import numpy as np\n",
        "import csv\n",
        "drive.mount('/content/drive')"
      ],
      "execution_count": 100,
      "outputs": [
        {
          "output_type": "stream",
          "text": [
            "Drive already mounted at /content/drive; to attempt to forcibly remount, call drive.mount(\"/content/drive\", force_remount=True).\n"
          ],
          "name": "stdout"
        }
      ]
    },
    {
      "cell_type": "code",
      "metadata": {
        "colab": {
          "base_uri": "https://localhost:8080/",
          "height": 204
        },
        "id": "hHOGC2iM2HPL",
        "outputId": "0c2a4e0a-57af-4b98-f3b5-f5b92c4bbb2e"
      },
      "source": [
        "df = pd.read_csv(\"/content/drive/My Drive/InputData/Davis.csv\")\n",
        "msk = np.random.rand(len(df)) <= 0.5\n",
        "train = df[msk]\n",
        "test = df[~msk]\n",
        "test.head()"
      ],
      "execution_count": 101,
      "outputs": [
        {
          "output_type": "execute_result",
          "data": {
            "text/html": [
              "<div>\n",
              "<style scoped>\n",
              "    .dataframe tbody tr th:only-of-type {\n",
              "        vertical-align: middle;\n",
              "    }\n",
              "\n",
              "    .dataframe tbody tr th {\n",
              "        vertical-align: top;\n",
              "    }\n",
              "\n",
              "    .dataframe thead th {\n",
              "        text-align: right;\n",
              "    }\n",
              "</style>\n",
              "<table border=\"1\" class=\"dataframe\">\n",
              "  <thead>\n",
              "    <tr style=\"text-align: right;\">\n",
              "      <th></th>\n",
              "      <th>Unnamed: 0</th>\n",
              "      <th>sex</th>\n",
              "      <th>weight</th>\n",
              "      <th>height</th>\n",
              "      <th>repwt</th>\n",
              "      <th>repht</th>\n",
              "    </tr>\n",
              "  </thead>\n",
              "  <tbody>\n",
              "    <tr>\n",
              "      <th>3</th>\n",
              "      <td>4</td>\n",
              "      <td>M</td>\n",
              "      <td>68</td>\n",
              "      <td>177</td>\n",
              "      <td>70.0</td>\n",
              "      <td>175.0</td>\n",
              "    </tr>\n",
              "    <tr>\n",
              "      <th>5</th>\n",
              "      <td>6</td>\n",
              "      <td>M</td>\n",
              "      <td>76</td>\n",
              "      <td>170</td>\n",
              "      <td>76.0</td>\n",
              "      <td>165.0</td>\n",
              "    </tr>\n",
              "    <tr>\n",
              "      <th>6</th>\n",
              "      <td>7</td>\n",
              "      <td>M</td>\n",
              "      <td>76</td>\n",
              "      <td>167</td>\n",
              "      <td>77.0</td>\n",
              "      <td>165.0</td>\n",
              "    </tr>\n",
              "    <tr>\n",
              "      <th>9</th>\n",
              "      <td>10</td>\n",
              "      <td>M</td>\n",
              "      <td>65</td>\n",
              "      <td>171</td>\n",
              "      <td>64.0</td>\n",
              "      <td>170.0</td>\n",
              "    </tr>\n",
              "    <tr>\n",
              "      <th>11</th>\n",
              "      <td>12</td>\n",
              "      <td>F</td>\n",
              "      <td>166</td>\n",
              "      <td>57</td>\n",
              "      <td>56.0</td>\n",
              "      <td>163.0</td>\n",
              "    </tr>\n",
              "  </tbody>\n",
              "</table>\n",
              "</div>"
            ],
            "text/plain": [
              "    Unnamed: 0 sex  weight  height  repwt  repht\n",
              "3            4   M      68     177   70.0  175.0\n",
              "5            6   M      76     170   76.0  165.0\n",
              "6            7   M      76     167   77.0  165.0\n",
              "9           10   M      65     171   64.0  170.0\n",
              "11          12   F     166      57   56.0  163.0"
            ]
          },
          "metadata": {
            "tags": []
          },
          "execution_count": 101
        }
      ]
    },
    {
      "cell_type": "code",
      "metadata": {
        "colab": {
          "base_uri": "https://localhost:8080/",
          "height": 204
        },
        "id": "8FmTDne0hi-y",
        "outputId": "6a523065-ecbb-413a-f855-3be7723343f5"
      },
      "source": [
        "mask = []\n",
        "for val in train.itertuples():\n",
        "  index = val.weight / pow((val.height / 100),2)\n",
        "  mask.append(index < 45 and index > 16)\n",
        "train = train[mask]\n",
        "mask.clear() \n",
        "for val in test.itertuples():\n",
        "  index = val.weight / pow((val.height / 100),2)\n",
        "  mask.append(index < 45 and index > 16)\n",
        "test = test[mask]\n",
        "test.itertuples\n",
        "test.head()"
      ],
      "execution_count": 102,
      "outputs": [
        {
          "output_type": "execute_result",
          "data": {
            "text/html": [
              "<div>\n",
              "<style scoped>\n",
              "    .dataframe tbody tr th:only-of-type {\n",
              "        vertical-align: middle;\n",
              "    }\n",
              "\n",
              "    .dataframe tbody tr th {\n",
              "        vertical-align: top;\n",
              "    }\n",
              "\n",
              "    .dataframe thead th {\n",
              "        text-align: right;\n",
              "    }\n",
              "</style>\n",
              "<table border=\"1\" class=\"dataframe\">\n",
              "  <thead>\n",
              "    <tr style=\"text-align: right;\">\n",
              "      <th></th>\n",
              "      <th>Unnamed: 0</th>\n",
              "      <th>sex</th>\n",
              "      <th>weight</th>\n",
              "      <th>height</th>\n",
              "      <th>repwt</th>\n",
              "      <th>repht</th>\n",
              "    </tr>\n",
              "  </thead>\n",
              "  <tbody>\n",
              "    <tr>\n",
              "      <th>3</th>\n",
              "      <td>4</td>\n",
              "      <td>M</td>\n",
              "      <td>68</td>\n",
              "      <td>177</td>\n",
              "      <td>70.0</td>\n",
              "      <td>175.0</td>\n",
              "    </tr>\n",
              "    <tr>\n",
              "      <th>5</th>\n",
              "      <td>6</td>\n",
              "      <td>M</td>\n",
              "      <td>76</td>\n",
              "      <td>170</td>\n",
              "      <td>76.0</td>\n",
              "      <td>165.0</td>\n",
              "    </tr>\n",
              "    <tr>\n",
              "      <th>6</th>\n",
              "      <td>7</td>\n",
              "      <td>M</td>\n",
              "      <td>76</td>\n",
              "      <td>167</td>\n",
              "      <td>77.0</td>\n",
              "      <td>165.0</td>\n",
              "    </tr>\n",
              "    <tr>\n",
              "      <th>9</th>\n",
              "      <td>10</td>\n",
              "      <td>M</td>\n",
              "      <td>65</td>\n",
              "      <td>171</td>\n",
              "      <td>64.0</td>\n",
              "      <td>170.0</td>\n",
              "    </tr>\n",
              "    <tr>\n",
              "      <th>13</th>\n",
              "      <td>14</td>\n",
              "      <td>F</td>\n",
              "      <td>64</td>\n",
              "      <td>168</td>\n",
              "      <td>64.0</td>\n",
              "      <td>165.0</td>\n",
              "    </tr>\n",
              "  </tbody>\n",
              "</table>\n",
              "</div>"
            ],
            "text/plain": [
              "    Unnamed: 0 sex  weight  height  repwt  repht\n",
              "3            4   M      68     177   70.0  175.0\n",
              "5            6   M      76     170   76.0  165.0\n",
              "6            7   M      76     167   77.0  165.0\n",
              "9           10   M      65     171   64.0  170.0\n",
              "13          14   F      64     168   64.0  165.0"
            ]
          },
          "metadata": {
            "tags": []
          },
          "execution_count": 102
        }
      ]
    },
    {
      "cell_type": "code",
      "metadata": {
        "colab": {
          "base_uri": "https://localhost:8080/",
          "height": 297
        },
        "id": "vKGR6lVSOboO",
        "outputId": "12204576-4232-45cd-e578-23f7ba183b15"
      },
      "source": [
        "sns.scatterplot(x='height', y='weight', hue='sex', data=train)"
      ],
      "execution_count": 103,
      "outputs": [
        {
          "output_type": "execute_result",
          "data": {
            "text/plain": [
              "<matplotlib.axes._subplots.AxesSubplot at 0x7f417baf38d0>"
            ]
          },
          "metadata": {
            "tags": []
          },
          "execution_count": 103
        },
        {
          "output_type": "display_data",
          "data": {
            "image/png": "[encoded data removed]",
            "text/plain": [
              "<Figure size 432x288 with 1 Axes>"
            ]
          },
          "metadata": {
            "tags": [],
            "needs_background": "light"
          }
        }
      ]
    },
    {
      "cell_type": "code",
      "metadata": {
        "id": "fP94EbSEtfN6"
      },
      "source": [
        "male_train = train[train[\"sex\"] == \"M\"]\n",
        "female_train = train[train[\"sex\"] == \"F\"]"
      ],
      "execution_count": 104,
      "outputs": []
    },
    {
      "cell_type": "code",
      "metadata": {
        "colab": {
          "base_uri": "https://localhost:8080/",
          "height": 265
        },
        "id": "HY72VZJ8yZNW",
        "outputId": "469f4923-a1c5-489d-96cd-4121bdf1f9f9"
      },
      "source": [
        "plt.hist(male_train.weight)\r\n",
        "plt.show()"
      ],
      "execution_count": 105,
      "outputs": [
        {
          "output_type": "display_data",
          "data": {
            "image/png": "[encoded data removed]",
            "text/plain": [
              "<Figure size 432x288 with 1 Axes>"
            ]
          },
          "metadata": {
            "tags": [],
            "needs_background": "light"
          }
        }
      ]
    },
    {
      "cell_type": "code",
      "metadata": {
        "colab": {
          "base_uri": "https://localhost:8080/",
          "height": 265
        },
        "id": "in6N08UVv2yk",
        "outputId": "9c69d487-8ec1-41ce-d2e0-fefbeb49a869"
      },
      "source": [
        "plt.hist(male_train.height)\r\n",
        "plt.show()"
      ],
      "execution_count": 106,
      "outputs": [
        {
          "output_type": "display_data",
          "data": {
            "image/png": "[encoded data removed]",
            "text/plain": [
              "<Figure size 432x288 with 1 Axes>"
            ]
          },
          "metadata": {
            "tags": [],
            "needs_background": "light"
          }
        }
      ]
    },
    {
      "cell_type": "code",
      "metadata": {
        "colab": {
          "base_uri": "https://localhost:8080/",
          "height": 265
        },
        "id": "0O_fEfx70OIQ",
        "outputId": "55997b33-b811-4cea-e42d-4cac03acd08e"
      },
      "source": [
        "plt.hist(female_train.weight)\r\n",
        "plt.show()"
      ],
      "execution_count": 107,
      "outputs": [
        {
          "output_type": "display_data",
          "data": {
            "image/png": "[encoded data removed]",
            "text/plain": [
              "<Figure size 432x288 with 1 Axes>"
            ]
          },
          "metadata": {
            "tags": [],
            "needs_background": "light"
          }
        }
      ]
    },
    {
      "cell_type": "code",
      "metadata": {
        "colab": {
          "base_uri": "https://localhost:8080/",
          "height": 265
        },
        "id": "nTlPgOXAwJ3o",
        "outputId": "2f13dc96-7eee-4c7c-9376-7f77daebec14"
      },
      "source": [
        "plt.hist(female_train.height)\r\n",
        "plt.show()"
      ],
      "execution_count": 108,
      "outputs": [
        {
          "output_type": "display_data",
          "data": {
            "image/png": "[encoded data removed]",
            "text/plain": [
              "<Figure size 432x288 with 1 Axes>"
            ]
          },
          "metadata": {
            "tags": [],
            "needs_background": "light"
          }
        }
      ]
    },
    {
      "cell_type": "code",
      "metadata": {
        "colab": {
          "base_uri": "https://localhost:8080/",
          "height": 265
        },
        "id": "B_PXGdxA0-Ij",
        "outputId": "c7a87d90-53e4-43c4-b8e1-50549bdf5157"
      },
      "source": [
        "plt.hist(male_train.repwt)\r\n",
        "plt.show()"
      ],
      "execution_count": 109,
      "outputs": [
        {
          "output_type": "display_data",
          "data": {
            "image/png": "[encoded data removed]",
            "text/plain": [
              "<Figure size 432x288 with 1 Axes>"
            ]
          },
          "metadata": {
            "tags": [],
            "needs_background": "light"
          }
        }
      ]
    },
    {
      "cell_type": "code",
      "metadata": {
        "colab": {
          "base_uri": "https://localhost:8080/",
          "height": 265
        },
        "id": "RIQrZ_Uh1sq5",
        "outputId": "28ca970c-9da0-4c9d-c48e-a852076abaf1"
      },
      "source": [
        "plt.hist(male_train.weight)\r\n",
        "plt.show()"
      ],
      "execution_count": 110,
      "outputs": [
        {
          "output_type": "display_data",
          "data": {
            "image/png": "[encoded data removed]",
            "text/plain": [
              "<Figure size 432x288 with 1 Axes>"
            ]
          },
          "metadata": {
            "tags": [],
            "needs_background": "light"
          }
        }
      ]
    },
    {
      "cell_type": "code",
      "metadata": {
        "colab": {
          "base_uri": "https://localhost:8080/",
          "height": 265
        },
        "id": "gvLw_4fR1356",
        "outputId": "2980aafe-6856-46da-b3e4-fb0e93a51e0b"
      },
      "source": [
        "plt.hist(male_train.repht)\r\n",
        "plt.show()"
      ],
      "execution_count": 111,
      "outputs": [
        {
          "output_type": "display_data",
          "data": {
            "image/png": "[encoded data removed]",
            "text/plain": [
              "<Figure size 432x288 with 1 Axes>"
            ]
          },
          "metadata": {
            "tags": [],
            "needs_background": "light"
          }
        }
      ]
    },
    {
      "cell_type": "code",
      "metadata": {
        "colab": {
          "base_uri": "https://localhost:8080/",
          "height": 265
        },
        "id": "ambEOeMK3S4Z",
        "outputId": "c88c791c-bd8b-424b-a68e-a96211d213f5"
      },
      "source": [
        "plt.hist(male_train.height)\r\n",
        "plt.show()"
      ],
      "execution_count": 112,
      "outputs": [
        {
          "output_type": "display_data",
          "data": {
            "image/png": "[encoded data removed]",
            "text/plain": [
              "<Figure size 432x288 with 1 Axes>"
            ]
          },
          "metadata": {
            "tags": [],
            "needs_background": "light"
          }
        }
      ]
    },
    {
      "cell_type": "code",
      "metadata": {
        "id": "gPv4CjfG1KiN"
      },
      "source": [
        "import scipy.stats\r\n",
        "class PointGenerator:\r\n",
        "  def __init__(self):\r\n",
        "    #Средние значения\r\n",
        "    self.av_train={\r\n",
        "      \"M\":None,\r\n",
        "      \"F\":None\r\n",
        "    }\r\n",
        "    # Ковариационные матрицы распределения\r\n",
        "    self.cov_train={\r\n",
        "      \"M\":None,\r\n",
        "      \"F\":None\r\n",
        "    }\r\n",
        "    self.p_male = None\r\n",
        "  \r\n",
        "  def fit(self,  x_train):\r\n",
        "    self.x_train = x_train\r\n",
        "    male_train = train[train[\"sex\"] == \"M\"]\r\n",
        "    female_train = train[train[\"sex\"] == \"F\"]\r\n",
        "    self.p_male = len(x_train[train[\"sex\"] == \"F\"])/len(x_train)\r\n",
        "    self.av_train[\"M\"]=np.mean(male_train[\"height\"]),np.mean(male_train[\"weight\"])\r\n",
        "    self.av_train[\"F\"]=np.mean(female_train[\"height\"]),np.mean(female_train[\"weight\"]) \r\n",
        "\r\n",
        "    self.cov_train[\"M\"] = np.cov(male_train[\"height\"].to_numpy(),male_train[\"weight\"].to_numpy())\r\n",
        "    self.cov_train[\"F\"] = np.cov(female_train[\"height\"].to_numpy(),female_train[\"weight\"].to_numpy())\r\n",
        "  \r\n",
        "  def generate_points(self, n_points):\r\n",
        "    resHeight = []\r\n",
        "    resWeight = []\r\n",
        "    resSex = []\r\n",
        "    for i in range (100):\r\n",
        "      sex = self.generate_sex(self.p_male)\r\n",
        "      height, weight = np.random.multivariate_normal([self.av_train[sex][0],self.av_train[sex][1]],self.cov_train[sex])\r\n",
        "      resHeight.append((height))\r\n",
        "      resWeight.append((weight))\r\n",
        "      resSex.append((sex))\r\n",
        "    result = {\"sex\":resSex,\"height\":resHeight,\"weight\":resWeight}\r\n",
        "    davis_gen = pd.DataFrame(result)\r\n",
        "    return davis_gen\r\n",
        "\r\n",
        "  def generate_sex(self, pm):\r\n",
        "    x=np.random.uniform(0,100)\r\n",
        "    if x <= pm*100:\r\n",
        "        sex = \"M\"\r\n",
        "    else:\r\n",
        "        sex = \"F\"\r\n",
        "    return sex \r\n",
        "  \r\n",
        "  def log_likelihood(self, X):\r\n",
        "    sex = X[\"sex\"]\r\n",
        "    M = np.column_stack((X[\"height\"], X[\"weight\"]))\r\n",
        "    return np.log(scipy.stats.multivariate_normal.pdf(M, self.av_train[sex], self.cov_train[sex]))\r\n",
        "  \r\n",
        "  def mean_log_likelihood(self,X):\r\n",
        "    result = 0\r\n",
        "    for index, row in X.iterrows():\r\n",
        "      result += self.log_likelihood(row)\r\n",
        "    return result/len(X)\r\n"
      ],
      "execution_count": 113,
      "outputs": []
    },
    {
      "cell_type": "code",
      "metadata": {
        "colab": {
          "base_uri": "https://localhost:8080/",
          "height": 333
        },
        "id": "hrJZL6hnPgKg",
        "outputId": "eae63893-500c-45cc-8fb8-3eeea5dd3c17"
      },
      "source": [
        "pGen = PointGenerator()\r\n",
        "pGen.fit(train)\r\n",
        "points = pGen.generate_points(len(train))\r\n",
        "sns.scatterplot(x='height', y='weight', hue='sex', data=points)\r\n",
        "print(pGen.mean_log_likelihood(points))\r\n",
        "print(pGen.mean_log_likelihood(train))\r\n",
        "print(pGen.mean_log_likelihood(test))"
      ],
      "execution_count": 114,
      "outputs": [
        {
          "output_type": "stream",
          "text": [
            "-6.633871846319334\n",
            "-6.682667263606478\n",
            "-6.571033995224076\n"
          ],
          "name": "stdout"
        },
        {
          "output_type": "display_data",
          "data": {
            "image/png": "[encoded data removed]",
            "text/plain": [
              "<Figure size 432x288 with 1 Axes>"
            ]
          },
          "metadata": {
            "tags": [],
            "needs_background": "light"
          }
        }
      ]
    },
    {
      "cell_type": "markdown",
      "metadata": {
        "id": "BYO1snBFmoh3"
      },
      "source": [
        "Сделаем нормализацию данных, для начала посчитаем среднее квадратичное отклоение, а затем проведем централизацию данных\n"
      ]
    },
    {
      "cell_type": "code",
      "metadata": {
        "colab": {
          "base_uri": "https://localhost:8080/"
        },
        "id": "gh9Royqymyt6",
        "outputId": "dd34fb75-79aa-48ff-fb2e-2a06bd70541c"
      },
      "source": [
        "trainX = train[\"height\"]\n",
        "trainY = train[\"weight\"]\n",
        "Dx = np.sum(trainX**2) / (len(trainX)-1)\n",
        "Dy = np.sum(trainY**2) / (len(trainX)-1)\n",
        "trainX = (trainX - trainX.mean()) / np.sqrt(Dx)\n",
        "trainY = (trainY - trainY.mean()) / np.sqrt(Dy)\n",
        "np.min(trainY)\n",
        "#sko = (train - trainMean)/sko**(1/2)"
      ],
      "execution_count": 115,
      "outputs": [
        {
          "output_type": "execute_result",
          "data": {
            "text/plain": [
              "-0.3236717640418077"
            ]
          },
          "metadata": {
            "tags": []
          },
          "execution_count": 115
        }
      ]
    },
    {
      "cell_type": "code",
      "metadata": {
        "colab": {
          "base_uri": "https://localhost:8080/",
          "height": 297
        },
        "id": "tv0m3zDSmoGc",
        "outputId": "5f8e7a1a-bb57-4b4a-886e-f16fd07ddf95"
      },
      "source": [
        "sns.scatterplot(x=trainX, y=trainY, hue=train['sex'])"
      ],
      "execution_count": 116,
      "outputs": [
        {
          "output_type": "execute_result",
          "data": {
            "text/plain": [
              "<matplotlib.axes._subplots.AxesSubplot at 0x7f417b409550>"
            ]
          },
          "metadata": {
            "tags": []
          },
          "execution_count": 116
        },
        {
          "output_type": "display_data",
          "data": {
            "image/png": "[encoded data removed]",
            "text/plain": [
              "<Figure size 432x288 with 1 Axes>"
            ]
          },
          "metadata": {
            "tags": [],
            "needs_background": "light"
          }
        }
      ]
    },
    {
      "cell_type": "code",
      "metadata": {
        "colab": {
          "base_uri": "https://localhost:8080/",
          "height": 297
        },
        "id": "zAWLcJGPvlPP",
        "outputId": "37c4b1fa-a9ab-4698-9896-0efe13583b2c"
      },
      "source": [
        "#https://towardsdatascience.com/understanding-pytorch-with-an-example-a-step-by-step-tutorial-81fc5f8c4e8e?gi=d6d7d34dbc77\r\n",
        "np.random.seed(1337)\r\n",
        "w1 = np.random.randn(1)\r\n",
        "b = np.random.randn(1)\r\n",
        "lr = 0.1 #find experemently (with values more than that const we not found minimal of error function)\r\n",
        "n_epoch = 5000\r\n",
        "w_hist = []\r\n",
        "b_hist = []\r\n",
        "height_train = trainX\r\n",
        "weight_train = trainY\r\n",
        "for epoch in range(n_epoch):\r\n",
        "  w_hist.append(w1)\r\n",
        "  b_hist.append(b)\r\n",
        "  weight_res = w1 * height_train + b\r\n",
        "  error = weight_train - weight_res\r\n",
        "  #errors.append(error.mean())\r\n",
        "  grad_w1 = -2 * (height_train * error).mean()\r\n",
        "  grad_b = -2 * error.mean()\r\n",
        "  w1 = w1 - lr * grad_w1\r\n",
        "  b = b - lr * grad_b\r\n",
        "  w_hist.append(w1)\r\n",
        "  b_hist.append(b)\r\n",
        "#print (b)\r\n",
        "result = {\"x\":height_train,\"y\":w1 * height_train + b}\r\n",
        "resultLine = pd.DataFrame(result)\r\n",
        "sns.lineplot(data=resultLine, x=\"x\", y=\"y\")\r\n",
        "sns.scatterplot(x=trainX, y=trainY, hue=train[\"sex\"])"
      ],
      "execution_count": 117,
      "outputs": [
        {
          "output_type": "execute_result",
          "data": {
            "text/plain": [
              "<matplotlib.axes._subplots.AxesSubplot at 0x7f417b26eac8>"
            ]
          },
          "metadata": {
            "tags": []
          },
          "execution_count": 117
        },
        {
          "output_type": "display_data",
          "data": {
            "image/png": "[encoded data removed]",
            "text/plain": [
              "<Figure size 432x288 with 1 Axes>"
            ]
          },
          "metadata": {
            "tags": [],
            "needs_background": "light"
          }
        }
      ]
    },
    {
      "cell_type": "markdown",
      "metadata": {
        "id": "vfxkOzOBsS5a"
      },
      "source": [
        "Посмотрим на обучения на чистых данных "
      ]
    },
    {
      "cell_type": "code",
      "metadata": {
        "colab": {
          "base_uri": "https://localhost:8080/",
          "height": 315
        },
        "id": "GwQb04zfqoHb",
        "outputId": "a1ad7520-57a0-4934-8d5f-cc2cbaf4bd9b"
      },
      "source": [
        "#https://towardsdatascience.com/understanding-pytorch-with-an-example-a-step-by-step-tutorial-81fc5f8c4e8e?gi=d6d7d34dbc77\n",
        "np.random.seed(1337)\n",
        "w1 = np.random.randn(1)\n",
        "b = np.random.randn(1)\n",
        "lr = 0.00001 #find experemently (with values more than that const we not found minimal of error function)\n",
        "n_epoch = 50000\n",
        "#w_hist = []\n",
        "#b_hist = []\n",
        "height_train = train['height']\n",
        "weight_train = train['weight']\n",
        "for epoch in range(n_epoch):\n",
        "  #w_hist.append(w1)\n",
        "  #b_hist.append(b)\n",
        "  weight_res = w1 * height_train + b\n",
        "  error = weight_train - weight_res\n",
        "  #errors.append(error.mean())\n",
        "  grad_w1 = -2 * (height_train * error).mean()\n",
        "  grad_b = -2 * error.mean()\n",
        "  w1 = w1 - lr * grad_w1\n",
        "  b = b - lr * grad_b\n",
        "  #w_hist.append(w1)\n",
        "  #b_hist.append(b)\n",
        "print (w1, b)\n",
        "result = {\"x\":height_train,\"y\":w1 * height_train + b}\n",
        "resultLine = pd.DataFrame(result)\n",
        "sns.lineplot(data=resultLine, x=\"x\", y=\"y\")\n",
        "sns.scatterplot(x=\"height\", y=\"weight\", hue=train[\"sex\"], data=train)"
      ],
      "execution_count": 118,
      "outputs": [
        {
          "output_type": "stream",
          "text": [
            "[0.39294783] [-0.83655975]\n"
          ],
          "name": "stdout"
        },
        {
          "output_type": "execute_result",
          "data": {
            "text/plain": [
              "<matplotlib.axes._subplots.AxesSubplot at 0x7f417b201710>"
            ]
          },
          "metadata": {
            "tags": []
          },
          "execution_count": 118
        },
        {
          "output_type": "display_data",
          "data": {
            "image/png": "[encoded data removed]",
            "text/plain": [
              "<Figure size 432x288 with 1 Axes>"
            ]
          },
          "metadata": {
            "tags": [],
            "needs_background": "light"
          }
        }
      ]
    },
    {
      "cell_type": "code",
      "metadata": {
        "id": "H81G84wh-l7_"
      },
      "source": [
        "def gradient(hTrain, wTrain,w,b):\r\n",
        "  error = 0.0\r\n",
        "  error = (wTrain - (w*hTrain + b))**2\r\n",
        "  return error.mean()\r\n"
      ],
      "execution_count": 119,
      "outputs": []
    },
    {
      "cell_type": "code",
      "metadata": {
        "id": "wYbIQV6SDaU4"
      },
      "source": [
        "w1,b = np.mgrid[-0.2:1:200j,-0.2:1:200j]\r\n",
        "\r\n",
        "mse_vals  = np.zeros(shape = (200,200))\r\n",
        "for i in range(-100,100,1):\r\n",
        "    for j in range(-100,100,1):\r\n",
        "        mse_vals[i,j] = gradient(train[\"height\"], train['weight'], i, j)"
      ],
      "execution_count": 120,
      "outputs": []
    },
    {
      "cell_type": "code",
      "metadata": {
        "colab": {
          "base_uri": "https://localhost:8080/",
          "height": 325
        },
        "id": "5JVAS8UVLTiS",
        "outputId": "cdd631f3-1c48-4ff5-81ca-980c674dffd7"
      },
      "source": [
        "plt.contourf(w1, b, mse_vals)\r\n",
        "ax = plt.axes()\r\n",
        "for i in range(len(w_hist)):\r\n",
        "  w_hist[i][0] = w_hist[i][0]/10\r\n",
        "for i in range(0, len(w_hist)-1, 1):\r\n",
        "  ax.arrow(w_hist[i][0], b_hist[i][0],w_hist[i+1][0] - w_hist[i][0], b_hist[i+1][0] - b_hist[i][0], color='RED',width=0.003)"
      ],
      "execution_count": 121,
      "outputs": [
        {
          "output_type": "stream",
          "text": [
            "/usr/local/lib/python3.6/dist-packages/ipykernel_launcher.py:2: MatplotlibDeprecationWarning: Adding an axes using the same arguments as a previous axes currently reuses the earlier instance.  In a future version, a new instance will always be created and returned.  Meanwhile, this warning can be suppressed, and the future behavior ensured, by passing a unique label to each axes instance.\n",
            "  \n"
          ],
          "name": "stderr"
        },
        {
          "output_type": "display_data",
          "data": {
            "image/png": "[encoded data removed]",
            "text/plain": [
              "<Figure size 432x288 with 1 Axes>"
            ]
          },
          "metadata": {
            "tags": [],
            "needs_background": "light"
          }
        }
      ]
    },
    {
      "cell_type": "code",
      "metadata": {
        "id": "RrYefzVlLqqA"
      },
      "source": [
        ""
      ],
      "execution_count": 121,
      "outputs": []
    }
  ]
}