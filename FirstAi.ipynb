{
  "nbformat": 4,
  "nbformat_minor": 0,
  "metadata": {
    "colab": {
      "name": "Untitled2.ipynb",
      "provenance": [],
      "collapsed_sections": [],
      "authorship_tag": "ABX9TyPockIft6iePAGf4ildfbuR",
      "include_colab_link": true
    },
    "kernelspec": {
      "name": "python3",
      "display_name": "Python 3"
    }
  },
  "cells": [
    {
      "cell_type": "markdown",
      "metadata": {
        "id": "view-in-github",
        "colab_type": "text"
      },
      "source": [
        "<a href=\"https://colab.research.google.com/github/Mitsko/AILabs/blob/master/FirstAi.ipynb\" target=\"_parent\"><img src=\"https://colab.research.google.com/assets/colab-badge.svg\" alt=\"Open In Colab\"/></a>"
      ]
    },
    {
      "cell_type": "code",
      "metadata": {
        "id": "8BTo6p18rMo2"
      },
      "source": [
        "import torch"
      ],
      "execution_count": null,
      "outputs": []
    },
    {
      "cell_type": "code",
      "metadata": {
        "id": "DLmaJF6OrREq"
      },
      "source": [
        "def target_function(x):\n",
        "    return 2**x * torch.sin(2**-x)"
      ],
      "execution_count": null,
      "outputs": []
    },
    {
      "cell_type": "code",
      "metadata": {
        "id": "c6YG-QuGrmUB"
      },
      "source": [
        "class RegressionNet(torch.nn.Module):\n",
        "    def __init__(self, n_hidden_neuronus):\n",
        "      super(RegressionNet, self).__init__()\n",
        "      self.fc1 = torch.nn.Linear(1, n_hidden_neuronus)\n",
        "      self.act1 = torch.nn.Sigmoid()\n",
        "      self.fc2 = torch.nn.Linear(n_hidden_neuronus, 1)\n",
        "    def forward(self,x):\n",
        "      x = self.fc1(x)\n",
        "      x = self.act1(x)\n",
        "      x = self.fc2(x)\n",
        "      return x"
      ],
      "execution_count": 3,
      "outputs": []
    }
  ]
}